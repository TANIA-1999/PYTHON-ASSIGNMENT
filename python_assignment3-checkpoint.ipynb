{
 "cells": [
  {
   "cell_type": "code",
   "execution_count": 8,
   "metadata": {},
   "outputs": [
    {
     "name": "stdout",
     "output_type": "stream",
     "text": [
      "enter 1st value38\n",
      "enter 2nd value10\n",
      "enter operator+\n",
      "48 answer\n"
     ]
    }
   ],
   "source": [
    "val1=int(input('enter 1st value'))\n",
    "val2=int(input('enter 2nd value'))\n",
    "operator=input('enter operator')\n",
    "if operator == '+':\n",
    "    val= val1 + val2\n",
    "    print(val,'answer')\n",
    "elif operator == '-':\n",
    "    val= val1 - val2\n",
    "    print(val,'answer')\n",
    "elif operator == '*':\n",
    "    val= val1 * val2\n",
    "    print(val,'answer')\n",
    "elif operator == '/':\n",
    "    val= val1 / val2\n",
    "    print(val,'answer')\n",
    "elif operator == '**':\n",
    "    val= val1 ** val2\n",
    "    print(val,'answer')\n",
    "else:\n",
    "    print('enter correct operator')"
   ]
  },
  {
   "cell_type": "code",
   "execution_count": 14,
   "metadata": {},
   "outputs": [
    {
     "ename": "SyntaxError",
     "evalue": "invalid syntax (<ipython-input-14-b5ec6e0dc25f>, line 4)",
     "output_type": "error",
     "traceback": [
      "\u001b[1;36m  File \u001b[1;32m\"<ipython-input-14-b5ec6e0dc25f>\"\u001b[1;36m, line \u001b[1;32m4\u001b[0m\n\u001b[1;33m    if val == b :\u001b[0m\n\u001b[1;37m                ^\u001b[0m\n\u001b[1;31mSyntaxError\u001b[0m\u001b[1;31m:\u001b[0m invalid syntax\n"
     ]
    }
   ],
   "source": [
    "a=[\"jan\" , \"feb\" , \"march\" , 2]\n",
    "val=int((input('enter value'))\n",
    "for b in a \n",
    "        if val == b :\n",
    "        print('numeric value')\n",
    "else :\n",
    "        print('not numeric')\n"
   ]
  },
  {
   "cell_type": "code",
   "execution_count": 7,
   "metadata": {},
   "outputs": [
    {
     "name": "stdout",
     "output_type": "stream",
     "text": [
      "{'fisrtname': 'tania', 'secondname': 'Sami', 'lastname': 'sheikh'}\n"
     ]
    }
   ],
   "source": [
    "list_1={\"fisrtname\":\"tania\" , \"secondname\":\"Sami\"}\n",
    "list_1[\"lastname\"]='sheikh'\n",
    "print(list_1)"
   ]
  },
  {
   "cell_type": "code",
   "execution_count": 6,
   "metadata": {},
   "outputs": [
    {
     "name": "stdout",
     "output_type": "stream",
     "text": [
      "SUM OF ALL NUMBERS IN LIST: 138\n"
     ]
    }
   ],
   "source": [
    "A={7 , 38 , 10, 15, 68}\n",
    "print(\"SUM OF ALL NUMBERS IN LIST:\" , sum(A))"
   ]
  },
  {
   "cell_type": "code",
   "execution_count": 5,
   "metadata": {},
   "outputs": [
    {
     "name": "stdout",
     "output_type": "stream",
     "text": [
      "Duplicate of  7  Found\n"
     ]
    }
   ],
   "source": [
    "list = [4, 5, 7, 8, 9, 1,0,7,10]\n",
    "list.sort()\n",
    "prev = list[0]\n",
    "del list[0]\n",
    "for item in list:\n",
    "    if prev == item:\n",
    "        print (\"Duplicate of \",prev,\" Found\")\n",
    "    prev = item"
   ]
  },
  {
   "cell_type": "code",
   "execution_count": 4,
   "metadata": {},
   "outputs": [
    {
     "name": "stdout",
     "output_type": "stream",
     "text": [
      "Key is present in the dictionary\n",
      "Key is not present in the dictionary\n"
     ]
    }
   ],
   "source": [
    "d = {1: 10, 2: 20, 3: 30, 4: 40, 5: 50, 6: 60}\n",
    "def is_key_present(x):\n",
    "  if x in d:\n",
    "      print('Key is present in the dictionary')\n",
    "  else:\n",
    "      print('Key is not present in the dictionary')\n",
    "is_key_present(5)\n",
    "is_key_present(9)"
   ]
  }
 ],
 "metadata": {
  "kernelspec": {
   "display_name": "Python 3",
   "language": "python",
   "name": "python3"
  },
  "language_info": {
   "codemirror_mode": {
    "name": "ipython",
    "version": 3
   },
   "file_extension": ".py",
   "mimetype": "text/x-python",
   "name": "python",
   "nbconvert_exporter": "python",
   "pygments_lexer": "ipython3",
   "version": "3.7.4"
  }
 },
 "nbformat": 4,
 "nbformat_minor": 2
}
