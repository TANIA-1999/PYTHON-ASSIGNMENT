{
 "cells": [
  {
   "cell_type": "code",
   "execution_count": 6,
   "metadata": {},
   "outputs": [
    {
     "name": "stdout",
     "output_type": "stream",
     "text": [
      "[{'First_name': 'TANIA', 'Last_name': 'JABEEN', 'Age': '20', 'City': 'KARACHI'}, {'matric': 'A-ONE', 'Inter': 'A', 'BE': 'A-ONE'}]\n",
      "[{'First_name': 'TANIA', 'Last_name': 'JABEEN', 'Age': '20', 'City': 'KARACHI'}]\n"
     ]
    }
   ],
   "source": [
    "person =[\n",
    "    {\n",
    "    \"First_name\": \"TANIA\",\n",
    "    \"Last_name\" : \"JABEEN\",\n",
    "    \"Age\" : \"20\",\n",
    "    \"City\": \"KARACHI\",\n",
    "     }\n",
    "]\n",
    "qualification = {\n",
    "    \"matric\" : \"A-ONE\",\n",
    "    \"Inter\" : \"A\",\n",
    "    \"BE\" : \"A-ONE\",   \n",
    "    }\n",
    "person.append(qualification)\n",
    "print(person)\n",
    "del (person[1])\n",
    "print(person)\n"
   ]
  },
  {
   "cell_type": "code",
   "execution_count": 3,
   "metadata": {},
   "outputs": [
    {
     "name": "stdout",
     "output_type": "stream",
     "text": [
      "{'Islamabad': {'Capital': 'Pakistan', 'Population': 'fourty-five million.', 'Intresting_fact': \"The world's largest deep sea port in size.\"}, 'Beijing': {'Capital': 'China', 'Population': 'Above one billion.', 'Intresting_fact': 'The third largest country by area.'}, 'London': {'Capital': 'England', 'Population': 'approx fifty-six million.', 'Intresting_fact': 'The highest mountain in England is Scafell Pike.'}}\n"
     ]
    }
   ],
   "source": [
    "cities ={\n",
    "    \"Islamabad\":  {\n",
    "        \"Capital\": \"Pakistan\",\n",
    "        \"Population\": \"fourty-five million.\",\n",
    "        \"Intresting_fact\" : \"The world's largest deep sea port in size.\",\n",
    "    },\n",
    "    \"Beijing\" : {\n",
    "         \"Capital\": \"China\",\n",
    "        \"Population\": \"Above one billion.\",\n",
    "        \"Intresting_fact\" : \"The third largest country by area.\",\n",
    "    },\n",
    "    \"London\": {\n",
    "        \"Capital\": \"England\",\n",
    "        \"Population\": \"approx fifty-six million.\",\n",
    "        \"Intresting_fact\" : \"The highest mountain in England is Scafell Pike.\",    \n",
    "    },   \n",
    "}\n",
    "print(cities)\n"
   ]
  },
  {
   "cell_type": "code",
   "execution_count": 4,
   "metadata": {},
   "outputs": [
    {
     "name": "stdout",
     "output_type": "stream",
     "text": [
      "Enter your age plz23\n",
      "Ticket is 15$\n"
     ]
    }
   ],
   "source": [
    "age = int(input('Enter your age plz'))\n",
    "if age < 3 :\n",
    "    print('Ticket is free for child')\n",
    "elif age > 3 and age < 12:\n",
    "        print('Ticket is 10$')\n",
    "elif age > 12:\n",
    "    print('Ticket is 15$')\n",
    "else :\n",
    "    print('Enter an appropriate answer')\n"
   ]
  },
  {
   "cell_type": "code",
   "execution_count": 5,
   "metadata": {},
   "outputs": [
    {
     "name": "stdout",
     "output_type": "stream",
     "text": [
      "ALICE IN WONDERLAND IS ONE OF MY FAVOURITE BOOK.\n"
     ]
    }
   ],
   "source": [
    "def favorite_book(title):\n",
    "    print(title + \" \" +\"IS ONE OF MY FAVOURITE BOOK.\")\n",
    "favorite_book('ALICE IN WONDERLAND')\n"
   ]
  },
  {
   "cell_type": "code",
   "execution_count": null,
   "metadata": {},
   "outputs": [],
   "source": []
  }
 ],
 "metadata": {
  "kernelspec": {
   "display_name": "Python 3",
   "language": "python",
   "name": "python3"
  },
  "language_info": {
   "codemirror_mode": {
    "name": "ipython",
    "version": 3
   },
   "file_extension": ".py",
   "mimetype": "text/x-python",
   "name": "python",
   "nbconvert_exporter": "python",
   "pygments_lexer": "ipython3",
   "version": "3.7.4"
  }
 },
 "nbformat": 4,
 "nbformat_minor": 2
}
