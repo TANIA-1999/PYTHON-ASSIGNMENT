{
 "cells": [
  {
   "cell_type": "code",
   "execution_count": 4,
   "metadata": {},
   "outputs": [
    {
     "name": "stdout",
     "output_type": "stream",
     "text": [
      "Enter obtained marks85\n",
      "enter obtained marks75\n",
      "enter obtained marks89\n",
      "Enter obtaind marks99\n",
      "Enter obtained marks65\n",
      "413\n",
      "A+\n"
     ]
    }
   ],
   "source": [
    "\n",
    "a= int(input(\"Enter obtained marks\"))\n",
    "b = int(input(\"enter obtained marks\"))\n",
    "c = int(input(\"enter obtained marks\"))\n",
    "d = int(input(\"Enter obtaind marks\"))\n",
    "PYTHON = int(input(\"Enter obtained marks\"));\n",
    "totalobtainedmarks= a + b + c + d + PYTHON \n",
    "print(totalobtainedmarks)\n",
    "PER= (totalobtainedmarks*100)/(500)\n",
    "if PER >= 80 and PER < 100:\n",
    "    print(\"A+\")\n",
    "elif  PER >= 70 and PER < 80:\n",
    "        print(\"A\")\n",
    "elif PER >= 60 and PER < 70:\n",
    "            print(\"B\")\n",
    "elif PER >= 0 and PER < 60:\n",
    "                print(\"FAIL\")\n",
    "else:\n",
    "                    (\"YOU HAVE GIVEN AN INAPPROPRIATE %\")\n"
   ]
  },
  {
   "cell_type": "code",
   "execution_count": null,
   "metadata": {},
   "outputs": [],
   "source": []
  },
  {
   "cell_type": "code",
   "execution_count": 5,
   "metadata": {},
   "outputs": [
    {
     "name": "stdout",
     "output_type": "stream",
     "text": [
      "ENTER A VALUE10\n",
      "Even number\n"
     ]
    }
   ],
   "source": [
    "A=int(input(\"ENTER A VALUE\"))\n",
    "if A % 2 == 0:\n",
    "    print(\"Even number\")\n",
    "else:\n",
    "    print(\"Odd number\")\n"
   ]
  },
  {
   "cell_type": "code",
   "execution_count": 8,
   "metadata": {},
   "outputs": [
    {
     "name": "stdout",
     "output_type": "stream",
     "text": [
      "4\n"
     ]
    }
   ],
   "source": [
    "\n",
    "FAMILY= [\"TANIA\" , \"TANZEELA\" , \"NOMAN\", \"ZEESHAN\"]\n",
    "print(len(FAMILY))\n"
   ]
  },
  {
   "cell_type": "code",
   "execution_count": 10,
   "metadata": {},
   "outputs": [
    {
     "name": "stdout",
     "output_type": "stream",
     "text": [
      "SUM OF ALL NUMBERS IN LIST: 68\n"
     ]
    }
   ],
   "source": [
    "A=[5 , 38 , 10, 15]\n",
    "print(\"SUM OF ALL NUMBERS IN LIST:\" , sum(A))\n"
   ]
  },
  {
   "cell_type": "code",
   "execution_count": 11,
   "metadata": {},
   "outputs": [
    {
     "name": "stdout",
     "output_type": "stream",
     "text": [
      "LARGEST NUMBER IN LIST: 38\n"
     ]
    }
   ],
   "source": [
    "A=[5 , 38 , 10, 13]\n",
    "print(\"LARGEST NUMBER IN LIST:\" , max(A))\n"
   ]
  },
  {
   "cell_type": "code",
   "execution_count": 12,
   "metadata": {},
   "outputs": [
    {
     "name": "stdout",
     "output_type": "stream",
     "text": [
      "1\n",
      "1\n",
      "3\n"
     ]
    }
   ],
   "source": [
    "A=[1, 1, 6, 3, 5, 8, 13, 22, 34, 56, 89]\n",
    "for nums in A:\n",
    "    if nums < 5:\n",
    "        print(nums)\n"
   ]
  },
  {
   "cell_type": "code",
   "execution_count": null,
   "metadata": {},
   "outputs": [],
   "source": []
  }
 ],
 "metadata": {
  "kernelspec": {
   "display_name": "Python 3",
   "language": "python",
   "name": "python3"
  },
  "language_info": {
   "codemirror_mode": {
    "name": "ipython",
    "version": 3
   },
   "file_extension": ".py",
   "mimetype": "text/x-python",
   "name": "python",
   "nbconvert_exporter": "python",
   "pygments_lexer": "ipython3",
   "version": "3.7.4"
  }
 },
 "nbformat": 4,
 "nbformat_minor": 2
}
